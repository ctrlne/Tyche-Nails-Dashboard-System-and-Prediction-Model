{
 "cells": [
  {
   "cell_type": "code",
   "execution_count": 1,
   "id": "ac39cef2-95c2-485e-9998-a98d33ff7ea3",
   "metadata": {},
   "outputs": [
    {
     "name": "stdout",
     "output_type": "stream",
     "text": [
      "Defaulting to user installation because normal site-packages is not writeable\n",
      "Requirement already satisfied: pandas in c:\\users\\claire antonette\\appdata\\roaming\\python\\python313\\site-packages (2.3.1)\n",
      "Requirement already satisfied: scikit-learn in c:\\users\\claire antonette\\appdata\\roaming\\python\\python313\\site-packages (1.7.1)\n",
      "Requirement already satisfied: psycopg2-binary in c:\\users\\claire antonette\\appdata\\roaming\\python\\python313\\site-packages (2.9.10)\n",
      "Requirement already satisfied: numpy>=1.26.0 in c:\\users\\claire antonette\\appdata\\roaming\\python\\python313\\site-packages (from pandas) (2.3.2)\n",
      "Requirement already satisfied: python-dateutil>=2.8.2 in c:\\users\\claire antonette\\appdata\\roaming\\python\\python313\\site-packages (from pandas) (2.9.0.post0)\n",
      "Requirement already satisfied: pytz>=2020.1 in c:\\users\\claire antonette\\appdata\\roaming\\python\\python313\\site-packages (from pandas) (2025.2)\n",
      "Requirement already satisfied: tzdata>=2022.7 in c:\\users\\claire antonette\\appdata\\roaming\\python\\python313\\site-packages (from pandas) (2025.2)\n",
      "Requirement already satisfied: scipy>=1.8.0 in c:\\users\\claire antonette\\appdata\\roaming\\python\\python313\\site-packages (from scikit-learn) (1.16.1)\n",
      "Requirement already satisfied: joblib>=1.2.0 in c:\\users\\claire antonette\\appdata\\roaming\\python\\python313\\site-packages (from scikit-learn) (1.5.1)\n",
      "Requirement already satisfied: threadpoolctl>=3.1.0 in c:\\users\\claire antonette\\appdata\\roaming\\python\\python313\\site-packages (from scikit-learn) (3.6.0)\n",
      "Requirement already satisfied: six>=1.5 in c:\\users\\claire antonette\\appdata\\roaming\\python\\python313\\site-packages (from python-dateutil>=2.8.2->pandas) (1.17.0)\n"
     ]
    }
   ],
   "source": [
    "!pip install pandas scikit-learn psycopg2-binary"
   ]
  },
  {
   "cell_type": "code",
   "execution_count": 4,
   "id": "1387dbc1-5648-4d78-b41c-ce9739c27b7c",
   "metadata": {},
   "outputs": [],
   "source": [
    "#to build a model to predict no-shows\n",
    "\n",
    "import pandas as pd\n",
    "import psycopg2\n",
    "from sklearn.model_selection import train_test_split\n",
    "from sklearn.ensemble import RandomForestClassifier\n",
    "from sklearn.metrics import accuracy_score, classification_report, confusion_matrix\n",
    "import numpy as np\n",
    "\n",
    "DB_HOST = \"localhost\"\n",
    "DB_NAME = \"salon_db\"\n",
    "DB_USER = \"postgres\"\n",
    "DB_PASS = \"Aug081978\""
   ]
  },
  {
   "cell_type": "code",
   "execution_count": 5,
   "id": "35be53b7-f80b-4f9e-b016-42b6b36b6566",
   "metadata": {},
   "outputs": [
    {
     "name": "stdout",
     "output_type": "stream",
     "text": [
      "Data loaded successfully from database.\n",
      "Data shape:, df.shape\n",
      "Data preview:\n",
      "   appointment_id  client_id           service  staff    appointment_time  \\\n",
      "0               1        113          Manicure    Bea 2025-05-18 15:00:00   \n",
      "1               2          8      Gel Manicure  Sofia 2024-09-16 17:00:00   \n",
      "2               3         23      Gel Manicure  Sofia 2024-09-28 17:00:00   \n",
      "3               4        144   Haircut & Style  Sofia 2024-12-27 10:00:00   \n",
      "4               5        117  Full Set Acrylic   Anna 2025-07-27 15:00:00   \n",
      "\n",
      "         booking_time     status   price  \n",
      "0 2025-05-07 15:00:00  Completed   500.0  \n",
      "1 2024-08-21 17:00:00  Completed  1200.0  \n",
      "2 2024-09-16 17:00:00  Completed  1200.0  \n",
      "3 2024-12-18 10:00:00  Cancelled   800.0  \n",
      "4 2025-07-15 15:00:00    No-Show  2000.0  \n"
     ]
    },
    {
     "name": "stderr",
     "output_type": "stream",
     "text": [
      "C:\\Users\\Claire Antonette\\AppData\\Local\\Temp\\ipykernel_32228\\3812195194.py:6: UserWarning: pandas only supports SQLAlchemy connectable (engine/connection) or database string URI or sqlite3 DBAPI2 connection. Other DBAPI2 objects are not tested. Please consider using SQLAlchemy.\n",
      "  df = pd.read_sql(query, conn)\n"
     ]
    }
   ],
   "source": [
    "#load data from db\n",
    "\n",
    "try:\n",
    "  conn = psycopg2.connect(host=DB_HOST, database=DB_NAME, user=DB_USER, password=DB_PASS)\n",
    "  query = \"SELECT * FROM appointments\"\n",
    "  df = pd.read_sql(query, conn)\n",
    "  conn.close()\n",
    "  print(\"Data loaded successfully from database.\")\n",
    "  print(\"Data shape:, df.shape\")\n",
    "  print(\"Data preview:\")\n",
    "  print(df.head())\n",
    "except Exception as e:\n",
    "  print(f\"Error loading data from database: {e}\")"
   ]
  },
  {
   "cell_type": "code",
   "execution_count": 7,
   "id": "bd227818-5b17-4234-957a-06ce846b9cfb",
   "metadata": {},
   "outputs": [
    {
     "name": "stdout",
     "output_type": "stream",
     "text": [
      "\n",
      "Performing feature engineering...\n",
      "Feature engineering complete.\n"
     ]
    }
   ],
   "source": [
    "# 2. Feature Engineering\n",
    "print(\"\\nPerforming feature engineering...\")\n",
    "df['appointment_time'] = pd.to_datetime(df['appointment_time'])\n",
    "df['booking_time'] = pd.to_datetime(df['booking_time'])\n",
    "\n",
    "# Target variable: 1 for 'No-Show', 0 otherwise\n",
    "df['is_no_show'] = (df['status'] == 'No-Show').astype(int)\n",
    "\n",
    "# Feature: Lead time in days\n",
    "df['lead_time_days'] = (df['appointment_time'] - df['booking_time']).dt.days\n",
    "\n",
    "# Feature: Day of the week\n",
    "df['day_of_week'] = df['appointment_time'].dt.dayofweek # Monday=0, Sunday=6\n",
    "\n",
    "# Feature: Client History (this is a more advanced feature)\n",
    "df = df.sort_values(by=['client_id', 'appointment_time'])\n",
    "df['previous_appointments'] = df.groupby('client_id').cumcount()\n",
    "df['previous_no_shows'] = df[df['status'] == 'No-Show'].groupby('client_id').cumcount().fillna(0)\n",
    "df['no_show_rate'] = (df['previous_no_shows'] / df['previous_appointments']).fillna(0)\n",
    "\n",
    "# Select features and target\n",
    "features = ['lead_time_days', 'day_of_week', 'previous_appointments', 'no_show_rate', 'price']\n",
    "target = 'is_no_show'\n",
    "\n",
    "# Handle potential missing values\n",
    "df_model = df[features + [target]].dropna()\n",
    "\n",
    "X = df_model[features]\n",
    "y = df_model[target]\n",
    "\n",
    "print(\"Feature engineering complete.\")"
   ]
  },
  {
   "cell_type": "code",
   "execution_count": 9,
   "id": "9f4a5ea2-ad89-4b1d-8122-b64d4f79a79f",
   "metadata": {},
   "outputs": [
    {
     "name": "stdout",
     "output_type": "stream",
     "text": [
      "\n",
      "Training the model...\n",
      "Model training complete!\n"
     ]
    }
   ],
   "source": [
    "#MODEL TRAINING\n",
    "\n",
    "print(\"\\nTraining the model...\")\n",
    "X_train, X_test, y_train, y_test = train_test_split(X, y, test_size=0.2, random_state=42, stratify=y)\n",
    "\n",
    "model = RandomForestClassifier(n_estimators=100, random_state=42, class_weight='balanced')\n",
    "model.fit(X_train, y_train)\n",
    "\n",
    "print(\"Model training complete!\")\n"
   ]
  },
  {
   "cell_type": "code",
   "execution_count": 11,
   "id": "c1a9cce0-1f93-4a94-8111-7557fda2f01e",
   "metadata": {},
   "outputs": [
    {
     "name": "stdout",
     "output_type": "stream",
     "text": [
      "\n",
      "Evaluating the model...\n",
      "Model Accuracy: 0.92\n",
      "\n",
      "Classification Report:\n",
      "              precision    recall  f1-score   support\n",
      "\n",
      "           0       0.93      0.98      0.95       837\n",
      "           1       0.86      0.62      0.72       163\n",
      "\n",
      "    accuracy                           0.92      1000\n",
      "   macro avg       0.89      0.80      0.84      1000\n",
      "weighted avg       0.92      0.92      0.92      1000\n",
      "\n",
      "\n",
      "Confusion Matrix:\n",
      "[[820  17]\n",
      " [ 62 101]]\n"
     ]
    }
   ],
   "source": [
    "#MODEL EVALUATION\n",
    "\n",
    "print(\"\\nEvaluating the model...\")\n",
    "y_pred = model.predict(X_test)\n",
    "\n",
    "accuracy = accuracy_score(y_test, y_pred)\n",
    "print(f\"Model Accuracy: {accuracy:.2f}\")\n",
    "print(\"\\nClassification Report:\")\n",
    "print(classification_report(y_test, y_pred))\n",
    "print(\"\\nConfusion Matrix:\")\n",
    "print(confusion_matrix(y_test, y_pred))\n"
   ]
  }
 ],
 "metadata": {
  "kernelspec": {
   "display_name": "Python 3 (ipykernel)",
   "language": "python",
   "name": "python3"
  },
  "language_info": {
   "codemirror_mode": {
    "name": "ipython",
    "version": 3
   },
   "file_extension": ".py",
   "mimetype": "text/x-python",
   "name": "python",
   "nbconvert_exporter": "python",
   "pygments_lexer": "ipython3",
   "version": "3.13.5"
  }
 },
 "nbformat": 4,
 "nbformat_minor": 5
}
